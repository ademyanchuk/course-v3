{
 "cells": [
  {
   "cell_type": "markdown",
   "metadata": {},
   "source": [
    "## Multi-label prediction with Planet Amazon dataset"
   ]
  },
  {
   "cell_type": "code",
   "execution_count": 1,
   "metadata": {},
   "outputs": [
    {
     "name": "stderr",
     "output_type": "stream",
     "text": [
      "/home/ubuntu/anaconda3/envs/pytorch_p36/lib/python3.6/site-packages/matplotlib/__init__.py:1067: UserWarning: Duplicate key in file \"/home/ubuntu/.config/matplotlib/matplotlibrc\", line #2\n",
      "  (fname, cnt))\n",
      "/home/ubuntu/anaconda3/envs/pytorch_p36/lib/python3.6/site-packages/matplotlib/__init__.py:1067: UserWarning: Duplicate key in file \"/home/ubuntu/.config/matplotlib/matplotlibrc\", line #3\n",
      "  (fname, cnt))\n"
     ]
    }
   ],
   "source": [
    "%reload_ext autoreload\n",
    "%autoreload 2\n",
    "%matplotlib inline"
   ]
  },
  {
   "cell_type": "code",
   "execution_count": 2,
   "metadata": {},
   "outputs": [],
   "source": [
    "from fastai import *\n",
    "from fastai.vision import *"
   ]
  },
  {
   "cell_type": "markdown",
   "metadata": {},
   "source": [
    "## Getting the data"
   ]
  },
  {
   "cell_type": "markdown",
   "metadata": {},
   "source": [
    "The planet dataset isn't available on the [fastai dataset page](https://course.fast.ai/datasets) due to copyright restrictions. You can download it from Kaggle however. Let's see how to do this by using the [Kaggle API](https://github.com/Kaggle/kaggle-api) as it's going to be pretty useful to you if you want to join a competition or use other Kaggle datasets later on.\n",
    "\n",
    "First, install the Kaggle API by uncommenting the following line and executing it, or by executing it in your terminal. Depending on your environment, you may need to append \"--user\" to the command."
   ]
  },
  {
   "cell_type": "code",
   "execution_count": 3,
   "metadata": {
    "collapsed": true
   },
   "outputs": [
    {
     "name": "stdout",
     "output_type": "stream",
     "text": [
      "Collecting kaggle\n",
      "\u001b[?25l  Downloading https://files.pythonhosted.org/packages/83/9b/ac57e15fbb239c6793c8d0b7dfd1a4c4a025eaa9f791b5388a7afb515aed/kaggle-1.5.0.tar.gz (53kB)\n",
      "\u001b[K    100% |████████████████████████████████| 61kB 4.2MB/s ta 0:00:011\n",
      "\u001b[?25hRequirement not upgraded as not directly required: urllib3<1.23.0,>=1.15 in /home/ubuntu/anaconda3/envs/pytorch_p36/lib/python3.6/site-packages (from kaggle) (1.22)\n",
      "Requirement not upgraded as not directly required: six>=1.10 in /home/ubuntu/anaconda3/envs/pytorch_p36/lib/python3.6/site-packages (from kaggle) (1.11.0)\n",
      "Requirement not upgraded as not directly required: certifi in /home/ubuntu/anaconda3/envs/pytorch_p36/lib/python3.6/site-packages (from kaggle) (2018.10.15)\n",
      "Requirement not upgraded as not directly required: python-dateutil in /home/ubuntu/anaconda3/envs/pytorch_p36/lib/python3.6/site-packages (from kaggle) (2.7.2)\n",
      "Requirement not upgraded as not directly required: requests in /home/ubuntu/anaconda3/envs/pytorch_p36/lib/python3.6/site-packages (from kaggle) (2.18.4)\n",
      "Requirement not upgraded as not directly required: tqdm in /home/ubuntu/anaconda3/envs/pytorch_p36/lib/python3.6/site-packages (from kaggle) (4.26.0)\n",
      "Collecting python-slugify (from kaggle)\n",
      "  Downloading https://files.pythonhosted.org/packages/00/ad/c778a6df614b6217c30fe80045b365bfa08b5dd3cb02e8b37a6d25126781/python-slugify-1.2.6.tar.gz\n",
      "Requirement not upgraded as not directly required: chardet<3.1.0,>=3.0.2 in /home/ubuntu/anaconda3/envs/pytorch_p36/lib/python3.6/site-packages (from requests->kaggle) (3.0.4)\n",
      "Requirement not upgraded as not directly required: idna<2.7,>=2.5 in /home/ubuntu/anaconda3/envs/pytorch_p36/lib/python3.6/site-packages (from requests->kaggle) (2.6)\n",
      "Collecting Unidecode>=0.04.16 (from python-slugify->kaggle)\n",
      "\u001b[?25l  Downloading https://files.pythonhosted.org/packages/59/ef/67085e30e8bbcdd76e2f0a4ad8151c13a2c5bce77c85f8cad6e1f16fb141/Unidecode-1.0.22-py2.py3-none-any.whl (235kB)\n",
      "\u001b[K    100% |████████████████████████████████| 235kB 8.9MB/s ta 0:00:01\n",
      "\u001b[?25hBuilding wheels for collected packages: kaggle, python-slugify\n",
      "  Running setup.py bdist_wheel for kaggle ... \u001b[?25ldone\n",
      "\u001b[?25h  Stored in directory: /home/ubuntu/.cache/pip/wheels/8b/21/3b/a0076243c6ae12a6215b2da515fe06b539aee7217b406e510e\n",
      "  Running setup.py bdist_wheel for python-slugify ... \u001b[?25ldone\n",
      "\u001b[?25h  Stored in directory: /home/ubuntu/.cache/pip/wheels/e3/65/da/2045deea3098ed7471eca0e2460cfbd3fdfe8c1d6fa6fcac92\n",
      "Successfully built kaggle python-slugify\n",
      "\u001b[31mmkl-random 1.0.1 requires cython, which is not installed.\u001b[0m\n",
      "\u001b[31mfastai 1.0.19 requires torchvision-nightly, which is not installed.\u001b[0m\n",
      "\u001b[31mspacy 2.0.16 has requirement regex==2018.01.10, but you'll have regex 2018.8.29 which is incompatible.\u001b[0m\n",
      "Installing collected packages: Unidecode, python-slugify, kaggle\n",
      "Successfully installed Unidecode-1.0.22 kaggle-1.5.0 python-slugify-1.2.6\n",
      "\u001b[33mYou are using pip version 10.0.1, however version 18.1 is available.\n",
      "You should consider upgrading via the 'pip install --upgrade pip' command.\u001b[0m\n"
     ]
    }
   ],
   "source": [
    "# ! pip install kaggle --upgrade"
   ]
  },
  {
   "cell_type": "markdown",
   "metadata": {},
   "source": [
    "Then you need to upload your credentials from Kaggle on your instance. Login to kaggle and click on your profile picture on the top left corner, then 'My account'. Scroll down until you find a button named 'Create New API Token' and click on it. This will trigger the download of a file named 'kaggle.json'.\n",
    "\n",
    "Upload this file to the directory this notebook is running in, by clicking \"Upload\" on your main Jupyter page, then uncomment and execute the next two commands."
   ]
  },
  {
   "cell_type": "code",
   "execution_count": 4,
   "metadata": {},
   "outputs": [],
   "source": [
    "# ! mkdir -p ~/.kaggle/\n",
    "# ! mv kaggle.json ~/.kaggle/"
   ]
  },
  {
   "cell_type": "code",
   "execution_count": 6,
   "metadata": {},
   "outputs": [],
   "source": [
    "# ! chmod 600 ~/.kaggle/kaggle.json"
   ]
  },
  {
   "cell_type": "markdown",
   "metadata": {},
   "source": [
    "You're all set to download the data from [planet competition](https://www.kaggle.com/c/planet-understanding-the-amazon-from-space). You just need to go to its main page and accept its rules, and run the two cells below (uncomment the shell commands to download and unzip the data)."
   ]
  },
  {
   "cell_type": "code",
   "execution_count": 3,
   "metadata": {},
   "outputs": [
    {
     "data": {
      "text/plain": [
       "PosixPath('/home/ubuntu/.fastai/data/planet')"
      ]
     },
     "execution_count": 3,
     "metadata": {},
     "output_type": "execute_result"
    }
   ],
   "source": [
    "path = Path(Config.get_key('data_path')).expanduser()/'planet'\n",
    "os.makedirs(path, exist_ok=True)\n",
    "path"
   ]
  },
  {
   "cell_type": "code",
   "execution_count": 7,
   "metadata": {},
   "outputs": [
    {
     "name": "stdout",
     "output_type": "stream",
     "text": [
      "Downloading train-jpg.tar.7z to /home/ubuntu/.fastai/data/planet\n",
      " 99%|███████████████████████████████████████▊| 597M/600M [00:14<00:00, 40.9MB/s]\n",
      "100%|████████████████████████████████████████| 600M/600M [00:14<00:00, 43.1MB/s]\n",
      "Downloading train_v2.csv.zip to /home/ubuntu/.fastai/data/planet\n",
      "  0%|                                                | 0.00/159k [00:00<?, ?B/s]\n",
      "100%|████████████████████████████████████████| 159k/159k [00:00<00:00, 1.84MB/s]\n",
      "Archive:  /home/ubuntu/.fastai/data/planet/train_v2.csv.zip\n",
      "  inflating: /home/ubuntu/.fastai/data/planet/train_v2.csv  \n",
      "   creating: /home/ubuntu/.fastai/data/planet/__MACOSX/\n",
      "  inflating: /home/ubuntu/.fastai/data/planet/__MACOSX/._train_v2.csv  \n"
     ]
    }
   ],
   "source": [
    "# ! kaggle competitions download -c planet-understanding-the-amazon-from-space -f train-jpg.tar.7z -p {path}  \n",
    "# ! kaggle competitions download -c planet-understanding-the-amazon-from-space -f train_v2.csv -p {path}  \n",
    "# ! unzip {path}/train_v2.csv.zip -d {path}"
   ]
  },
  {
   "cell_type": "markdown",
   "metadata": {},
   "source": [
    "We only download the training data file for this lesson, but you can grab the test file if you want to make a late submission.\n",
    "\n",
    "To extract the content of this file, we'll need 7zip, so uncomment the following line if you need to install it."
   ]
  },
  {
   "cell_type": "code",
   "execution_count": 21,
   "metadata": {},
   "outputs": [
    {
     "name": "stdout",
     "output_type": "stream",
     "text": [
      "Downloading test-jpg.tar.7z to /home/ubuntu/.fastai/data/planet\n",
      " 99%|███████████████████████████████████████▊| 600M/603M [00:07<00:00, 80.6MB/s]\n",
      "100%|████████████████████████████████████████| 603M/603M [00:07<00:00, 89.9MB/s]\n"
     ]
    }
   ],
   "source": [
    "# ! kaggle competitions download -c planet-understanding-the-amazon-from-space -f test-jpg.tar.7z -p {path}"
   ]
  },
  {
   "cell_type": "code",
   "execution_count": 24,
   "metadata": {
    "scrolled": true
   },
   "outputs": [
    {
     "name": "stdout",
     "output_type": "stream",
     "text": [
      "Downloading test_v2_file_mapping.csv.zip to /home/ubuntu/.fastai/data/planet\n",
      "  0%|                                                | 0.00/110k [00:00<?, ?B/s]\n",
      "100%|████████████████████████████████████████| 110k/110k [00:00<00:00, 7.29MB/s]\n",
      "Downloading sample_submission_v2.csv.zip to /home/ubuntu/.fastai/data/planet\n",
      "  0%|                                                | 0.00/154k [00:00<?, ?B/s]\n",
      "100%|████████████████████████████████████████| 154k/154k [00:00<00:00, 7.99MB/s]\n"
     ]
    }
   ],
   "source": [
    "# ! kaggle competitions download -c planet-understanding-the-amazon-from-space -f test_v2_file_mapping.csv -p {path}\n",
    "# ! kaggle competitions download -c planet-understanding-the-amazon-from-space -f sample_submission_v2.csv -p {path}"
   ]
  },
  {
   "cell_type": "code",
   "execution_count": 25,
   "metadata": {},
   "outputs": [
    {
     "name": "stdout",
     "output_type": "stream",
     "text": [
      "Archive:  /home/ubuntu/.fastai/data/planet/test_v2_file_mapping.csv.zip\n",
      "  inflating: /home/ubuntu/.fastai/data/planet/test_v2_file_mapping.csv  \n",
      "Archive:  /home/ubuntu/.fastai/data/planet/sample_submission_v2.csv.zip\n",
      "  inflating: /home/ubuntu/.fastai/data/planet/sample_submission_v2.csv  \n",
      "  inflating: /home/ubuntu/.fastai/data/planet/__MACOSX/._sample_submission_v2.csv  \n"
     ]
    }
   ],
   "source": [
    "# ! unzip {path}/test_v2_file_mapping.csv.zip -d {path}\n",
    "# ! unzip {path}/sample_submission_v2.csv.zip -d {path}"
   ]
  },
  {
   "cell_type": "code",
   "execution_count": 4,
   "metadata": {
    "collapsed": true
   },
   "outputs": [
    {
     "name": "stdout",
     "output_type": "stream",
     "text": [
      "Reading package lists... Done\n",
      "Building dependency tree       \n",
      "Reading state information... Done\n",
      "The following packages were automatically installed and are no longer required:\n",
      "  libaio1 libllvm5.0 librados2 librbd1 librdmacm1 linux-aws-headers-4.4.0-1055\n",
      "  linux-aws-headers-4.4.0-1057 linux-aws-headers-4.4.0-1066\n",
      "  linux-headers-4.4.0-1055-aws linux-headers-4.4.0-1057-aws\n",
      "  linux-headers-4.4.0-1066-aws linux-image-4.4.0-1055-aws\n",
      "  linux-image-4.4.0-1057-aws linux-image-4.4.0-1066-aws\n",
      "Use 'sudo apt autoremove' to remove them.\n",
      "Suggested packages:\n",
      "  p7zip-rar\n",
      "The following NEW packages will be installed:\n",
      "  p7zip-full\n",
      "0 upgraded, 1 newly installed, 0 to remove and 11 not upgraded.\n",
      "Need to get 919 kB of archives.\n",
      "After this operation, 3,959 kB of additional disk space will be used.\n",
      "Get:1 http://us-west-2.ec2.archive.ubuntu.com/ubuntu xenial/universe amd64 p7zip-full amd64 9.20.1~dfsg.1-4.2 [919 kB]\n",
      "Fetched 919 kB in 0s (28.4 MB/s)   \n",
      "Selecting previously unselected package p7zip-full.\n",
      "(Reading database ... 341415 files and directories currently installed.)\n",
      "Preparing to unpack .../p7zip-full_9.20.1~dfsg.1-4.2_amd64.deb ...\n",
      "Unpacking p7zip-full (9.20.1~dfsg.1-4.2) ...\n",
      "Processing triggers for man-db (2.7.5-1) ...\n",
      "Setting up p7zip-full (9.20.1~dfsg.1-4.2) ...\n"
     ]
    }
   ],
   "source": [
    "# ! sudo apt-get install p7zip-full"
   ]
  },
  {
   "cell_type": "markdown",
   "metadata": {},
   "source": [
    "And now we can finally unpack the data."
   ]
  },
  {
   "cell_type": "code",
   "execution_count": 8,
   "metadata": {},
   "outputs": [
    {
     "name": "stdout",
     "output_type": "stream",
     "text": [
      "\n",
      "7-Zip (A) [64] 9.20  Copyright (c) 1999-2010 Igor Pavlov  2010-11-18\n",
      "p7zip Version 9.20 (locale=en_US.UTF-8,Utf16=on,HugeFiles=on,4 CPUs)\n",
      "\n",
      "Processing archive: /home/ubuntu/.fastai/data/planet/train-jpg.tar.7z\n",
      "\n",
      "Extracting  train-jpg.tar\n",
      "\n",
      "Everything is Ok\n",
      "\n",
      "Size:       665753600\n",
      "Compressed: 629296207\n"
     ]
    }
   ],
   "source": [
    "# ! 7za -bd -y x {path}/train-jpg.tar.7z -o{path}\n",
    "# ! tar -xf {path}/train-jpg.tar -C {path}"
   ]
  },
  {
   "cell_type": "code",
   "execution_count": 22,
   "metadata": {},
   "outputs": [
    {
     "name": "stdout",
     "output_type": "stream",
     "text": [
      "\n",
      "7-Zip (A) [64] 9.20  Copyright (c) 1999-2010 Igor Pavlov  2010-11-18\n",
      "p7zip Version 9.20 (locale=en_US.UTF-8,Utf16=on,HugeFiles=on,4 CPUs)\n",
      "\n",
      "Processing archive: /home/ubuntu/.fastai/data/planet/test-jpg.tar.7z\n",
      "\n",
      "Extracting  test-jpg.tar\n",
      "\n",
      "Everything is Ok\n",
      "\n",
      "Size:       668989440\n",
      "Compressed: 632362315\n"
     ]
    }
   ],
   "source": [
    "# ! 7za -bd -y x {path}/test-jpg.tar.7z -o{path}\n",
    "# ! tar -xf {path}/test-jpg.tar -C {path}"
   ]
  },
  {
   "cell_type": "code",
   "execution_count": 4,
   "metadata": {},
   "outputs": [
    {
     "data": {
      "text/plain": [
       "[PosixPath('/home/ubuntu/.fastai/data/planet/test_v2_file_mapping.csv'),\n",
       " PosixPath('/home/ubuntu/.fastai/data/planet/sample_submission_v2.csv'),\n",
       " PosixPath('/home/ubuntu/.fastai/data/planet/train_v2.csv'),\n",
       " PosixPath('/home/ubuntu/.fastai/data/planet/__MACOSX'),\n",
       " PosixPath('/home/ubuntu/.fastai/data/planet/models'),\n",
       " PosixPath('/home/ubuntu/.fastai/data/planet/train-jpg'),\n",
       " PosixPath('/home/ubuntu/.fastai/data/planet/test-jpg')]"
      ]
     },
     "execution_count": 4,
     "metadata": {},
     "output_type": "execute_result"
    }
   ],
   "source": [
    "path.ls()"
   ]
  },
  {
   "cell_type": "markdown",
   "metadata": {},
   "source": [
    "## Multiclassification"
   ]
  },
  {
   "cell_type": "markdown",
   "metadata": {},
   "source": [
    "Contrary to the pets dataset studied in last lesson, here each picture can have multiple labels. If we take a look at the csv file containing the labels (in 'train_v2.csv' here) we see that each 'image_name' is associated to several tags separated by spaces."
   ]
  },
  {
   "cell_type": "code",
   "execution_count": 5,
   "metadata": {},
   "outputs": [
    {
     "data": {
      "text/html": [
       "<div>\n",
       "<style scoped>\n",
       "    .dataframe tbody tr th:only-of-type {\n",
       "        vertical-align: middle;\n",
       "    }\n",
       "\n",
       "    .dataframe tbody tr th {\n",
       "        vertical-align: top;\n",
       "    }\n",
       "\n",
       "    .dataframe thead th {\n",
       "        text-align: right;\n",
       "    }\n",
       "</style>\n",
       "<table border=\"1\" class=\"dataframe\">\n",
       "  <thead>\n",
       "    <tr style=\"text-align: right;\">\n",
       "      <th></th>\n",
       "      <th>image_name</th>\n",
       "      <th>tags</th>\n",
       "    </tr>\n",
       "  </thead>\n",
       "  <tbody>\n",
       "    <tr>\n",
       "      <th>0</th>\n",
       "      <td>train_0</td>\n",
       "      <td>haze primary</td>\n",
       "    </tr>\n",
       "    <tr>\n",
       "      <th>1</th>\n",
       "      <td>train_1</td>\n",
       "      <td>agriculture clear primary water</td>\n",
       "    </tr>\n",
       "    <tr>\n",
       "      <th>2</th>\n",
       "      <td>train_2</td>\n",
       "      <td>clear primary</td>\n",
       "    </tr>\n",
       "    <tr>\n",
       "      <th>3</th>\n",
       "      <td>train_3</td>\n",
       "      <td>clear primary</td>\n",
       "    </tr>\n",
       "    <tr>\n",
       "      <th>4</th>\n",
       "      <td>train_4</td>\n",
       "      <td>agriculture clear habitation primary road</td>\n",
       "    </tr>\n",
       "  </tbody>\n",
       "</table>\n",
       "</div>"
      ],
      "text/plain": [
       "  image_name                                       tags\n",
       "0    train_0                               haze primary\n",
       "1    train_1            agriculture clear primary water\n",
       "2    train_2                              clear primary\n",
       "3    train_3                              clear primary\n",
       "4    train_4  agriculture clear habitation primary road"
      ]
     },
     "execution_count": 5,
     "metadata": {},
     "output_type": "execute_result"
    }
   ],
   "source": [
    "df = pd.read_csv(path/'train_v2.csv')\n",
    "df.head()"
   ]
  },
  {
   "cell_type": "markdown",
   "metadata": {},
   "source": [
    "To put this in a `DataBunch` while using the [data block API](https://docs.fast.ai/data_block.html), we then need to using `ImageMultiDataset` (and not `ImageClassificationDataset`). This will make sure the model created has the proper loss function to deal with the multiple classes."
   ]
  },
  {
   "cell_type": "code",
   "execution_count": 6,
   "metadata": {},
   "outputs": [],
   "source": [
    "tfms = get_transforms(flip_vert=True, max_lighting=0.1, max_zoom=1.05, max_warp=0.)"
   ]
  },
  {
   "cell_type": "code",
   "execution_count": 7,
   "metadata": {},
   "outputs": [],
   "source": [
    "np.random.seed(42)"
   ]
  },
  {
   "cell_type": "code",
   "execution_count": 13,
   "metadata": {},
   "outputs": [
    {
     "data": {
      "text/plain": [
       "<fastai.vision.data.ImageDataBunch at 0x7f44e0469f28>"
      ]
     },
     "execution_count": 13,
     "metadata": {},
     "output_type": "execute_result"
    }
   ],
   "source": [
    "data = ImageDataBunch.from_csv(path=path, folder='train-jpg', sep=' ',\n",
    "                               csv_labels='train_v2.csv', suffix='.jpg',\n",
    "                               test='test-jpg', ds_tfms=tfms, size=128)\n",
    "data.normalize(imagenet_stats)"
   ]
  },
  {
   "cell_type": "code",
   "execution_count": 13,
   "metadata": {},
   "outputs": [],
   "source": [
    "data = (ImageFileList.from_folder(path)            \n",
    "        .label_from_csv('train_v2.csv', sep=' ', folder='train-jpg', suffix='.jpg')  \n",
    "        .random_split_by_pct(0.2)\n",
    "        .datasets(ImageMultiDataset)  \n",
    "        .transform(tfms, size=128)             \n",
    "        .databunch()\n",
    "        .normalize(imagenet_stats))"
   ]
  },
  {
   "cell_type": "markdown",
   "metadata": {},
   "source": [
    "`show_batch` still works, and show us the different labels separated by ;."
   ]
  },
  {
   "cell_type": "code",
   "execution_count": 14,
   "metadata": {},
   "outputs": [
    {
     "data": {
      "image/png": "[encoded data removed]",
      "text/plain": [
       "<Figure size 720x720 with 9 Axes>"
      ]
     },
     "metadata": {},
     "output_type": "display_data"
    }
   ],
   "source": [
    "data.show_batch(rows=3, figsize=(10,10))"
   ]
  },
  {
   "cell_type": "markdown",
   "metadata": {},
   "source": [
    "To create a `Learner` we use the same function as in lesson 1. Our base architecture is resnet34 again, but the metrics are a little bit differeent: we use `accuracy_thresh` instead of `accuracy`. In lesson 1, we determined the predicition for a given class by picking the final activation that was the biggest, but here, each activation can be 0. or 1. `accuracy_thresh` selects the one that are above a certain threshold (0.5 by default) and comapre them to the ground truth.\n",
    "\n",
    "As for Fbeta, it's the metric that was used by Kaggle on this competition. See [here](https://en.wikipedia.org/wiki/F1_score) for more details."
   ]
  },
  {
   "cell_type": "code",
   "execution_count": 15,
   "metadata": {},
   "outputs": [],
   "source": [
    "doc(accuracy_thresh)"
   ]
  },
  {
   "cell_type": "code",
   "execution_count": 21,
   "metadata": {},
   "outputs": [],
   "source": [
    "f_score = partial(fbeta, thresh=0.2)\n",
    "learn = create_cnn(data, models.resnet34, metrics=[accuracy_thresh, f_score])"
   ]
  },
  {
   "cell_type": "markdown",
   "metadata": {},
   "source": [
    "We use the LR Finder to pick a good learning rate."
   ]
  },
  {
   "cell_type": "code",
   "execution_count": 22,
   "metadata": {},
   "outputs": [
    {
     "name": "stdout",
     "output_type": "stream",
     "text": [
      "LR Finder complete, type {learner_name}.recorder.plot() to see the graph.\n"
     ]
    }
   ],
   "source": [
    "learn.lr_find()"
   ]
  },
  {
   "cell_type": "code",
   "execution_count": 23,
   "metadata": {},
   "outputs": [
    {
     "data": {
      "image/png": "[encoded data removed]",
      "text/plain": [
       "<Figure size 432x288 with 1 Axes>"
      ]
     },
     "metadata": {},
     "output_type": "display_data"
    }
   ],
   "source": [
    "learn.recorder.plot()"
   ]
  },
  {
   "cell_type": "markdown",
   "metadata": {},
   "source": [
    "Then we can fit the head of our network."
   ]
  },
  {
   "cell_type": "code",
   "execution_count": 24,
   "metadata": {},
   "outputs": [],
   "source": [
    "lr = 0.02"
   ]
  },
  {
   "cell_type": "code",
   "execution_count": 25,
   "metadata": {},
   "outputs": [
    {
     "name": "stdout",
     "output_type": "stream",
     "text": [
      "Total time: 08:15\n",
      "epoch  train_loss  valid_loss  accuracy_thresh  fbeta   \n",
      "1      0.120177    0.113710    0.955831         0.902126  (01:39)\n",
      "2      0.124844    0.119620    0.955540         0.889048  (01:38)\n",
      "3      0.112925    0.135225    0.960928         0.909504  (01:38)\n",
      "4      0.103021    0.097732    0.964624         0.920563  (01:38)\n",
      "5      0.095729    0.096923    0.965506         0.922341  (01:39)\n",
      "\n"
     ]
    }
   ],
   "source": [
    "learn.fit_one_cycle(5, lr)"
   ]
  },
  {
   "cell_type": "code",
   "execution_count": 26,
   "metadata": {},
   "outputs": [],
   "source": [
    "learn.save('stage-1')"
   ]
  },
  {
   "cell_type": "code",
   "execution_count": 27,
   "metadata": {},
   "outputs": [],
   "source": [
    "learn.unfreeze()"
   ]
  },
  {
   "cell_type": "code",
   "execution_count": 28,
   "metadata": {},
   "outputs": [
    {
     "name": "stdout",
     "output_type": "stream",
     "text": [
      "Total time: 11:10\n",
      "epoch  train_loss  valid_loss  accuracy_thresh  fbeta   \n",
      "1      0.107028    0.103475    0.959316         0.907055  (02:14)\n",
      "2      0.103720    0.095127    0.962561         0.917528  (02:13)\n",
      "3      0.099350    0.091858    0.964938         0.921595  (02:13)\n",
      "4      0.092974    0.085681    0.966768         0.927825  (02:13)\n",
      "5      0.088714    0.084273    0.967555         0.926737  (02:14)\n",
      "\n"
     ]
    }
   ],
   "source": [
    "learn.fit_one_cycle(5, slice(lr/100, lr/5))"
   ]
  },
  {
   "cell_type": "code",
   "execution_count": 29,
   "metadata": {},
   "outputs": [
    {
     "name": "stdout",
     "output_type": "stream",
     "text": [
      "Total time: 11:08\n",
      "epoch  train_loss  valid_loss  accuracy_thresh  fbeta   \n",
      "1      0.091059    0.085528    0.966658         0.926820  (02:13)\n",
      "2      0.094846    0.089164    0.965193         0.923797  (02:13)\n",
      "3      0.090857    0.084882    0.966943         0.926069  (02:13)\n",
      "4      0.087751    0.083710    0.967344         0.927089  (02:13)\n",
      "5      0.084726    0.082516    0.967942         0.928642  (02:13)\n",
      "\n"
     ]
    }
   ],
   "source": [
    "learn.fit_one_cycle(5, slice(lr/200, lr/10))"
   ]
  },
  {
   "cell_type": "code",
   "execution_count": 30,
   "metadata": {},
   "outputs": [],
   "source": [
    "learn.save('stage-2')"
   ]
  },
  {
   "cell_type": "code",
   "execution_count": 35,
   "metadata": {},
   "outputs": [
    {
     "data": {
      "image/png": "[encoded data removed]",
      "text/plain": [
       "<Figure size 432x288 with 1 Axes>"
      ]
     },
     "metadata": {},
     "output_type": "display_data"
    }
   ],
   "source": [
    "learn.recorder.plot_losses()"
   ]
  },
  {
   "cell_type": "markdown",
   "metadata": {},
   "source": [
    "#### Valid "
   ]
  },
  {
   "cell_type": "code",
   "execution_count": 36,
   "metadata": {},
   "outputs": [
    {
     "name": "stdout",
     "output_type": "stream",
     "text": [
      "Total time: 02:08\n",
      "\n"
     ]
    }
   ],
   "source": [
    "preds, target_values =  learn.TTA()"
   ]
  },
  {
   "cell_type": "code",
   "execution_count": 39,
   "metadata": {},
   "outputs": [
    {
     "data": {
      "text/plain": [
       "tensor([0.0011, 0.9995, 0.7906, 0.9986, 0.7673, 0.0197, 0.4503, 0.2535, 0.0054,\n",
       "        0.0001, 0.0003, 0.0000, 0.0091, 0.0003, 0.0003, 0.0016, 0.0002])"
      ]
     },
     "execution_count": 39,
     "metadata": {},
     "output_type": "execute_result"
    }
   ],
   "source": [
    "preds[0]"
   ]
  },
  {
   "cell_type": "code",
   "execution_count": 43,
   "metadata": {},
   "outputs": [
    {
     "data": {
      "text/plain": [
       "tensor([0., 1., 1., 1., 1., 0., 0., 0., 0., 0., 0., 0., 0., 0., 0., 0., 0.])"
      ]
     },
     "execution_count": 43,
     "metadata": {},
     "output_type": "execute_result"
    }
   ],
   "source": [
    "target_values[0]"
   ]
  },
  {
   "cell_type": "code",
   "execution_count": 45,
   "metadata": {},
   "outputs": [
    {
     "data": {
      "text/plain": [
       "{'haze': 0,\n",
       " 'primary': 1,\n",
       " 'agriculture': 2,\n",
       " 'clear': 3,\n",
       " 'water': 4,\n",
       " 'habitation': 5,\n",
       " 'road': 6,\n",
       " 'cultivation': 7,\n",
       " 'slash_burn': 8,\n",
       " 'cloudy': 9,\n",
       " 'partly_cloudy': 10,\n",
       " 'conventional_mine': 11,\n",
       " 'bare_ground': 12,\n",
       " 'artisinal_mine': 13,\n",
       " 'blooming': 14,\n",
       " 'selective_logging': 15,\n",
       " 'blow_down': 16}"
      ]
     },
     "execution_count": 45,
     "metadata": {},
     "output_type": "execute_result"
    }
   ],
   "source": [
    "data.valid_ds.ds.class2idx"
   ]
  },
  {
   "cell_type": "code",
   "execution_count": 80,
   "metadata": {},
   "outputs": [
    {
     "data": {
      "text/plain": [
       "['train_1']"
      ]
     },
     "execution_count": 80,
     "metadata": {},
     "output_type": "execute_result"
    }
   ],
   "source": [
    "re.findall(r'train_\\d+', s)"
   ]
  },
  {
   "cell_type": "code",
   "execution_count": 81,
   "metadata": {},
   "outputs": [
    {
     "data": {
      "text/plain": [
       "[['train_1'],\n",
       " ['train_7'],\n",
       " ['train_10'],\n",
       " ['train_13'],\n",
       " ['train_14'],\n",
       " ['train_30'],\n",
       " ['train_44'],\n",
       " ['train_52'],\n",
       " ['train_53'],\n",
       " ['train_56'],\n",
       " ['train_57'],\n",
       " ['train_58'],\n",
       " ['train_60'],\n",
       " ['train_66'],\n",
       " ['train_71'],\n",
       " ['train_77'],\n",
       " ['train_80'],\n",
       " ['train_88'],\n",
       " ['train_91'],\n",
       " ['train_93'],\n",
       " ['train_96'],\n",
       " ['train_99'],\n",
       " ['train_105'],\n",
       " ['train_106'],\n",
       " ['train_111'],\n",
       " ['train_116'],\n",
       " ['train_119'],\n",
       " ['train_129'],\n",
       " ['train_130'],\n",
       " ['train_131'],\n",
       " ['train_132'],\n",
       " ['train_140'],\n",
       " ['train_141'],\n",
       " ['train_144'],\n",
       " ['train_147'],\n",
       " ['train_152'],\n",
       " ['train_153'],\n",
       " ['train_154'],\n",
       " ['train_155'],\n",
       " ['train_161'],\n",
       " ['train_167'],\n",
       " ['train_174'],\n",
       " ['train_177'],\n",
       " ['train_182'],\n",
       " ['train_189'],\n",
       " ['train_200'],\n",
       " ['train_202'],\n",
       " ['train_204'],\n",
       " ['train_209'],\n",
       " ['train_211'],\n",
       " ['train_212'],\n",
       " ['train_215'],\n",
       " ['train_217'],\n",
       " ['train_233'],\n",
       " ['train_236'],\n",
       " ['train_241'],\n",
       " ['train_246'],\n",
       " ['train_254'],\n",
       " ['train_260'],\n",
       " ['train_261'],\n",
       " ['train_262'],\n",
       " ['train_263'],\n",
       " ['train_268'],\n",
       " ['train_271'],\n",
       " ['train_292'],\n",
       " ['train_294'],\n",
       " ['train_300'],\n",
       " ['train_306'],\n",
       " ['train_308'],\n",
       " ['train_309'],\n",
       " ['train_312'],\n",
       " ['train_317'],\n",
       " ['train_322'],\n",
       " ['train_324'],\n",
       " ['train_328'],\n",
       " ['train_331'],\n",
       " ['train_335'],\n",
       " ['train_337'],\n",
       " ['train_341'],\n",
       " ['train_346'],\n",
       " ['train_350'],\n",
       " ['train_362'],\n",
       " ['train_364'],\n",
       " ['train_366'],\n",
       " ['train_371'],\n",
       " ['train_381'],\n",
       " ['train_390'],\n",
       " ['train_394'],\n",
       " ['train_397'],\n",
       " ['train_400'],\n",
       " ['train_404'],\n",
       " ['train_411'],\n",
       " ['train_421'],\n",
       " ['train_423'],\n",
       " ['train_424'],\n",
       " ['train_425'],\n",
       " ['train_426'],\n",
       " ['train_435'],\n",
       " ['train_438'],\n",
       " ['train_441'],\n",
       " ['train_444'],\n",
       " ['train_458'],\n",
       " ['train_468'],\n",
       " ['train_476'],\n",
       " ['train_477'],\n",
       " ['train_480'],\n",
       " ['train_484'],\n",
       " ['train_490'],\n",
       " ['train_492'],\n",
       " ['train_499'],\n",
       " ['train_501'],\n",
       " ['train_502'],\n",
       " ['train_505'],\n",
       " ['train_517'],\n",
       " ['train_519'],\n",
       " ['train_520'],\n",
       " ['train_523'],\n",
       " ['train_536'],\n",
       " ['train_540'],\n",
       " ['train_550'],\n",
       " ['train_553'],\n",
       " ['train_567'],\n",
       " ['train_572'],\n",
       " ['train_578'],\n",
       " ['train_581'],\n",
       " ['train_584'],\n",
       " ['train_597'],\n",
       " ['train_598'],\n",
       " ['train_599'],\n",
       " ['train_602'],\n",
       " ['train_604'],\n",
       " ['train_605'],\n",
       " ['train_608'],\n",
       " ['train_624'],\n",
       " ['train_629'],\n",
       " ['train_631'],\n",
       " ['train_637'],\n",
       " ['train_644'],\n",
       " ['train_645'],\n",
       " ['train_649'],\n",
       " ['train_656'],\n",
       " ['train_663'],\n",
       " ['train_680'],\n",
       " ['train_686'],\n",
       " ['train_692'],\n",
       " ['train_694'],\n",
       " ['train_701'],\n",
       " ['train_705'],\n",
       " ['train_707'],\n",
       " ['train_711'],\n",
       " ['train_712'],\n",
       " ['train_718'],\n",
       " ['train_724'],\n",
       " ['train_734'],\n",
       " ['train_736'],\n",
       " ['train_737'],\n",
       " ['train_739'],\n",
       " ['train_742'],\n",
       " ['train_753'],\n",
       " ['train_759'],\n",
       " ['train_771'],\n",
       " ['train_787'],\n",
       " ['train_789'],\n",
       " ['train_790'],\n",
       " ['train_791'],\n",
       " ['train_802'],\n",
       " ['train_803'],\n",
       " ['train_804'],\n",
       " ['train_818'],\n",
       " ['train_819'],\n",
       " ['train_820'],\n",
       " ['train_826'],\n",
       " ['train_831'],\n",
       " ['train_832'],\n",
       " ['train_842'],\n",
       " ['train_848'],\n",
       " ['train_852'],\n",
       " ['train_856'],\n",
       " ['train_858'],\n",
       " ['train_881'],\n",
       " ['train_885'],\n",
       " ['train_890'],\n",
       " ['train_900'],\n",
       " ['train_901'],\n",
       " ['train_902'],\n",
       " ['train_904'],\n",
       " ['train_907'],\n",
       " ['train_910'],\n",
       " ['train_911'],\n",
       " ['train_913'],\n",
       " ['train_915'],\n",
       " ['train_919'],\n",
       " ['train_920'],\n",
       " ['train_923'],\n",
       " ['train_931'],\n",
       " ['train_932'],\n",
       " ['train_938'],\n",
       " ['train_939'],\n",
       " ['train_940'],\n",
       " ['train_943'],\n",
       " ['train_945'],\n",
       " ['train_948'],\n",
       " ['train_955'],\n",
       " ['train_959'],\n",
       " ['train_962'],\n",
       " ['train_965'],\n",
       " ['train_991'],\n",
       " ['train_1000'],\n",
       " ['train_1003'],\n",
       " ['train_1005'],\n",
       " ['train_1009'],\n",
       " ['train_1011'],\n",
       " ['train_1020'],\n",
       " ['train_1022'],\n",
       " ['train_1032'],\n",
       " ['train_1035'],\n",
       " ['train_1044'],\n",
       " ['train_1047'],\n",
       " ['train_1048'],\n",
       " ['train_1051'],\n",
       " ['train_1061'],\n",
       " ['train_1065'],\n",
       " ['train_1068'],\n",
       " ['train_1075'],\n",
       " ['train_1081'],\n",
       " ['train_1093'],\n",
       " ['train_1098'],\n",
       " ['train_1099'],\n",
       " ['train_1106'],\n",
       " ['train_1111'],\n",
       " ['train_1123'],\n",
       " ['train_1132'],\n",
       " ['train_1134'],\n",
       " ['train_1136'],\n",
       " ['train_1142'],\n",
       " ['train_1153'],\n",
       " ['train_1156'],\n",
       " ['train_1157'],\n",
       " ['train_1167'],\n",
       " ['train_1168'],\n",
       " ['train_1170'],\n",
       " ['train_1187'],\n",
       " ['train_1196'],\n",
       " ['train_1199'],\n",
       " ['train_1204'],\n",
       " ['train_1205'],\n",
       " ['train_1209'],\n",
       " ['train_1212'],\n",
       " ['train_1219'],\n",
       " ['train_1224'],\n",
       " ['train_1225'],\n",
       " ['train_1229'],\n",
       " ['train_1233'],\n",
       " ['train_1235'],\n",
       " ['train_1244'],\n",
       " ['train_1245'],\n",
       " ['train_1250'],\n",
       " ['train_1252'],\n",
       " ['train_1253'],\n",
       " ['train_1259'],\n",
       " ['train_1264'],\n",
       " ['train_1269'],\n",
       " ['train_1271'],\n",
       " ['train_1275'],\n",
       " ['train_1276'],\n",
       " ['train_1281'],\n",
       " ['train_1282'],\n",
       " ['train_1288'],\n",
       " ['train_1290'],\n",
       " ['train_1298'],\n",
       " ['train_1300'],\n",
       " ['train_1301'],\n",
       " ['train_1304'],\n",
       " ['train_1310'],\n",
       " ['train_1312'],\n",
       " ['train_1313'],\n",
       " ['train_1319'],\n",
       " ['train_1320'],\n",
       " ['train_1335'],\n",
       " ['train_1343'],\n",
       " ['train_1359'],\n",
       " ['train_1372'],\n",
       " ['train_1373'],\n",
       " ['train_1377'],\n",
       " ['train_1381'],\n",
       " ['train_1384'],\n",
       " ['train_1388'],\n",
       " ['train_1393'],\n",
       " ['train_1395'],\n",
       " ['train_1399'],\n",
       " ['train_1403'],\n",
       " ['train_1409'],\n",
       " ['train_1419'],\n",
       " ['train_1427'],\n",
       " ['train_1432'],\n",
       " ['train_1433'],\n",
       " ['train_1439'],\n",
       " ['train_1440'],\n",
       " ['train_1445'],\n",
       " ['train_1447'],\n",
       " ['train_1449'],\n",
       " ['train_1450'],\n",
       " ['train_1455'],\n",
       " ['train_1458'],\n",
       " ['train_1479'],\n",
       " ['train_1481'],\n",
       " ['train_1491'],\n",
       " ['train_1492'],\n",
       " ['train_1493'],\n",
       " ['train_1495'],\n",
       " ['train_1497'],\n",
       " ['train_1507'],\n",
       " ['train_1511'],\n",
       " ['train_1529'],\n",
       " ['train_1536'],\n",
       " ['train_1539'],\n",
       " ['train_1540'],\n",
       " ['train_1542'],\n",
       " ['train_1548'],\n",
       " ['train_1557'],\n",
       " ['train_1558'],\n",
       " ['train_1560'],\n",
       " ['train_1564'],\n",
       " ['train_1565'],\n",
       " ['train_1578'],\n",
       " ['train_1579'],\n",
       " ['train_1585'],\n",
       " ['train_1591'],\n",
       " ['train_1595'],\n",
       " ['train_1600'],\n",
       " ['train_1601'],\n",
       " ['train_1625'],\n",
       " ['train_1626'],\n",
       " ['train_1629'],\n",
       " ['train_1634'],\n",
       " ['train_1638'],\n",
       " ['train_1640'],\n",
       " ['train_1643'],\n",
       " ['train_1644'],\n",
       " ['train_1647'],\n",
       " ['train_1651'],\n",
       " ['train_1654'],\n",
       " ['train_1658'],\n",
       " ['train_1667'],\n",
       " ['train_1669'],\n",
       " ['train_1672'],\n",
       " ['train_1673'],\n",
       " ['train_1684'],\n",
       " ['train_1685'],\n",
       " ['train_1691'],\n",
       " ['train_1694'],\n",
       " ['train_1697'],\n",
       " ['train_1705'],\n",
       " ['train_1708'],\n",
       " ['train_1710'],\n",
       " ['train_1718'],\n",
       " ['train_1725'],\n",
       " ['train_1726'],\n",
       " ['train_1736'],\n",
       " ['train_1741'],\n",
       " ['train_1746'],\n",
       " ['train_1751'],\n",
       " ['train_1762'],\n",
       " ['train_1768'],\n",
       " ['train_1781'],\n",
       " ['train_1786'],\n",
       " ['train_1790'],\n",
       " ['train_1796'],\n",
       " ['train_1803'],\n",
       " ['train_1804'],\n",
       " ['train_1811'],\n",
       " ['train_1812'],\n",
       " ['train_1818'],\n",
       " ['train_1829'],\n",
       " ['train_1832'],\n",
       " ['train_1837'],\n",
       " ['train_1839'],\n",
       " ['train_1846'],\n",
       " ['train_1856'],\n",
       " ['train_1858'],\n",
       " ['train_1866'],\n",
       " ['train_1870'],\n",
       " ['train_1877'],\n",
       " ['train_1885'],\n",
       " ['train_1886'],\n",
       " ['train_1894'],\n",
       " ['train_1896'],\n",
       " ['train_1898'],\n",
       " ['train_1900'],\n",
       " ['train_1903'],\n",
       " ['train_1909'],\n",
       " ['train_1910'],\n",
       " ['train_1918'],\n",
       " ['train_1924'],\n",
       " ['train_1933'],\n",
       " ['train_1943'],\n",
       " ['train_1952'],\n",
       " ['train_1955'],\n",
       " ['train_1958'],\n",
       " ['train_1959'],\n",
       " ['train_1960'],\n",
       " ['train_1961'],\n",
       " ['train_1965'],\n",
       " ['train_1967'],\n",
       " ['train_1971'],\n",
       " ['train_1973'],\n",
       " ['train_1983'],\n",
       " ['train_1990'],\n",
       " ['train_1992'],\n",
       " ['train_1997'],\n",
       " ['train_1999'],\n",
       " ['train_2008'],\n",
       " ['train_2015'],\n",
       " ['train_2018'],\n",
       " ['train_2021'],\n",
       " ['train_2022'],\n",
       " ['train_2025'],\n",
       " ['train_2030'],\n",
       " ['train_2032'],\n",
       " ['train_2038'],\n",
       " ['train_2049'],\n",
       " ['train_2051'],\n",
       " ['train_2060'],\n",
       " ['train_2074'],\n",
       " ['train_2081'],\n",
       " ['train_2082'],\n",
       " ['train_2083'],\n",
       " ['train_2095'],\n",
       " ['train_2106'],\n",
       " ['train_2125'],\n",
       " ['train_2126'],\n",
       " ['train_2137'],\n",
       " ['train_2147'],\n",
       " ['train_2152'],\n",
       " ['train_2164'],\n",
       " ['train_2173'],\n",
       " ['train_2175'],\n",
       " ['train_2179'],\n",
       " ['train_2180'],\n",
       " ['train_2184'],\n",
       " ['train_2192'],\n",
       " ['train_2201'],\n",
       " ['train_2206'],\n",
       " ['train_2208'],\n",
       " ['train_2209'],\n",
       " ['train_2211'],\n",
       " ['train_2215'],\n",
       " ['train_2219'],\n",
       " ['train_2220'],\n",
       " ['train_2223'],\n",
       " ['train_2229'],\n",
       " ['train_2234'],\n",
       " ['train_2240'],\n",
       " ['train_2246'],\n",
       " ['train_2247'],\n",
       " ['train_2248'],\n",
       " ['train_2251'],\n",
       " ['train_2253'],\n",
       " ['train_2254'],\n",
       " ['train_2267'],\n",
       " ['train_2275'],\n",
       " ['train_2282'],\n",
       " ['train_2285'],\n",
       " ['train_2294'],\n",
       " ['train_2302'],\n",
       " ['train_2314'],\n",
       " ['train_2315'],\n",
       " ['train_2324'],\n",
       " ['train_2339'],\n",
       " ['train_2345'],\n",
       " ['train_2346'],\n",
       " ['train_2354'],\n",
       " ['train_2361'],\n",
       " ['train_2371'],\n",
       " ['train_2375'],\n",
       " ['train_2397'],\n",
       " ['train_2398'],\n",
       " ['train_2400'],\n",
       " ['train_2405'],\n",
       " ['train_2409'],\n",
       " ['train_2411'],\n",
       " ['train_2416'],\n",
       " ['train_2419'],\n",
       " ['train_2426'],\n",
       " ['train_2427'],\n",
       " ['train_2429'],\n",
       " ['train_2435'],\n",
       " ['train_2438'],\n",
       " ['train_2440'],\n",
       " ['train_2444'],\n",
       " ['train_2445'],\n",
       " ['train_2453'],\n",
       " ['train_2455'],\n",
       " ['train_2457'],\n",
       " ['train_2479'],\n",
       " ['train_2484'],\n",
       " ['train_2488'],\n",
       " ['train_2491'],\n",
       " ['train_2492'],\n",
       " ['train_2493'],\n",
       " ['train_2498'],\n",
       " ['train_2503'],\n",
       " ['train_2504'],\n",
       " ['train_2506'],\n",
       " ['train_2520'],\n",
       " ['train_2521'],\n",
       " ['train_2522'],\n",
       " ['train_2539'],\n",
       " ['train_2540'],\n",
       " ['train_2541'],\n",
       " ['train_2542'],\n",
       " ['train_2544'],\n",
       " ['train_2546'],\n",
       " ['train_2548'],\n",
       " ['train_2553'],\n",
       " ['train_2557'],\n",
       " ['train_2558'],\n",
       " ['train_2563'],\n",
       " ['train_2564'],\n",
       " ['train_2574'],\n",
       " ['train_2580'],\n",
       " ['train_2582'],\n",
       " ['train_2583'],\n",
       " ['train_2584'],\n",
       " ['train_2586'],\n",
       " ['train_2588'],\n",
       " ['train_2598'],\n",
       " ['train_2610'],\n",
       " ['train_2616'],\n",
       " ['train_2617'],\n",
       " ['train_2622'],\n",
       " ['train_2628'],\n",
       " ['train_2636'],\n",
       " ['train_2641'],\n",
       " ['train_2642'],\n",
       " ['train_2648'],\n",
       " ['train_2652'],\n",
       " ['train_2654'],\n",
       " ['train_2659'],\n",
       " ['train_2664'],\n",
       " ['train_2672'],\n",
       " ['train_2683'],\n",
       " ['train_2684'],\n",
       " ['train_2689'],\n",
       " ['train_2696'],\n",
       " ['train_2698'],\n",
       " ['train_2701'],\n",
       " ['train_2705'],\n",
       " ['train_2706'],\n",
       " ['train_2712'],\n",
       " ['train_2714'],\n",
       " ['train_2723'],\n",
       " ['train_2725'],\n",
       " ['train_2733'],\n",
       " ['train_2737'],\n",
       " ['train_2738'],\n",
       " ['train_2747'],\n",
       " ['train_2750'],\n",
       " ['train_2753'],\n",
       " ['train_2764'],\n",
       " ['train_2765'],\n",
       " ['train_2769'],\n",
       " ['train_2780'],\n",
       " ['train_2784'],\n",
       " ['train_2785'],\n",
       " ['train_2789'],\n",
       " ['train_2810'],\n",
       " ['train_2813'],\n",
       " ['train_2814'],\n",
       " ['train_2818'],\n",
       " ['train_2819'],\n",
       " ['train_2820'],\n",
       " ['train_2826'],\n",
       " ['train_2827'],\n",
       " ['train_2828'],\n",
       " ['train_2832'],\n",
       " ['train_2833'],\n",
       " ['train_2838'],\n",
       " ['train_2842'],\n",
       " ['train_2844'],\n",
       " ['train_2846'],\n",
       " ['train_2859'],\n",
       " ['train_2861'],\n",
       " ['train_2862'],\n",
       " ['train_2865'],\n",
       " ['train_2868'],\n",
       " ['train_2877'],\n",
       " ['train_2878'],\n",
       " ['train_2892'],\n",
       " ['train_2896'],\n",
       " ['train_2898'],\n",
       " ['train_2899'],\n",
       " ['train_2900'],\n",
       " ['train_2901'],\n",
       " ['train_2904'],\n",
       " ['train_2912'],\n",
       " ['train_2922'],\n",
       " ['train_2931'],\n",
       " ['train_2945'],\n",
       " ['train_2962'],\n",
       " ['train_2967'],\n",
       " ['train_2969'],\n",
       " ['train_2977'],\n",
       " ['train_2981'],\n",
       " ['train_2988'],\n",
       " ['train_2989'],\n",
       " ['train_2990'],\n",
       " ['train_2991'],\n",
       " ['train_2998'],\n",
       " ['train_3007'],\n",
       " ['train_3014'],\n",
       " ['train_3016'],\n",
       " ['train_3017'],\n",
       " ['train_3020'],\n",
       " ['train_3022'],\n",
       " ['train_3027'],\n",
       " ['train_3028'],\n",
       " ['train_3032'],\n",
       " ['train_3035'],\n",
       " ['train_3041'],\n",
       " ['train_3050'],\n",
       " ['train_3054'],\n",
       " ['train_3059'],\n",
       " ['train_3064'],\n",
       " ['train_3066'],\n",
       " ['train_3067'],\n",
       " ['train_3069'],\n",
       " ['train_3073'],\n",
       " ['train_3075'],\n",
       " ['train_3080'],\n",
       " ['train_3082'],\n",
       " ['train_3085'],\n",
       " ['train_3088'],\n",
       " ['train_3104'],\n",
       " ['train_3107'],\n",
       " ['train_3108'],\n",
       " ['train_3111'],\n",
       " ['train_3114'],\n",
       " ['train_3119'],\n",
       " ['train_3123'],\n",
       " ['train_3124'],\n",
       " ['train_3125'],\n",
       " ['train_3128'],\n",
       " ['train_3132'],\n",
       " ['train_3134'],\n",
       " ['train_3136'],\n",
       " ['train_3139'],\n",
       " ['train_3149'],\n",
       " ['train_3153'],\n",
       " ['train_3163'],\n",
       " ['train_3165'],\n",
       " ['train_3173'],\n",
       " ['train_3176'],\n",
       " ['train_3178'],\n",
       " ['train_3179'],\n",
       " ['train_3182'],\n",
       " ['train_3187'],\n",
       " ['train_3188'],\n",
       " ['train_3192'],\n",
       " ['train_3208'],\n",
       " ['train_3209'],\n",
       " ['train_3213'],\n",
       " ['train_3217'],\n",
       " ['train_3225'],\n",
       " ['train_3227'],\n",
       " ['train_3237'],\n",
       " ['train_3240'],\n",
       " ['train_3242'],\n",
       " ['train_3248'],\n",
       " ['train_3253'],\n",
       " ['train_3257'],\n",
       " ['train_3258'],\n",
       " ['train_3259'],\n",
       " ['train_3260'],\n",
       " ['train_3263'],\n",
       " ['train_3274'],\n",
       " ['train_3276'],\n",
       " ['train_3282'],\n",
       " ['train_3287'],\n",
       " ['train_3288'],\n",
       " ['train_3289'],\n",
       " ['train_3292'],\n",
       " ['train_3317'],\n",
       " ['train_3318'],\n",
       " ['train_3322'],\n",
       " ['train_3324'],\n",
       " ['train_3326'],\n",
       " ['train_3328'],\n",
       " ['train_3331'],\n",
       " ['train_3344'],\n",
       " ['train_3347'],\n",
       " ['train_3350'],\n",
       " ['train_3352'],\n",
       " ['train_3354'],\n",
       " ['train_3359'],\n",
       " ['train_3368'],\n",
       " ['train_3372'],\n",
       " ['train_3380'],\n",
       " ['train_3385'],\n",
       " ['train_3387'],\n",
       " ['train_3390'],\n",
       " ['train_3396'],\n",
       " ['train_3397'],\n",
       " ['train_3398'],\n",
       " ['train_3401'],\n",
       " ['train_3405'],\n",
       " ['train_3413'],\n",
       " ['train_3416'],\n",
       " ['train_3422'],\n",
       " ['train_3424'],\n",
       " ['train_3425'],\n",
       " ['train_3430'],\n",
       " ['train_3435'],\n",
       " ['train_3439'],\n",
       " ['train_3441'],\n",
       " ['train_3449'],\n",
       " ['train_3453'],\n",
       " ['train_3454'],\n",
       " ['train_3460'],\n",
       " ['train_3465'],\n",
       " ['train_3475'],\n",
       " ['train_3481'],\n",
       " ['train_3496'],\n",
       " ['train_3498'],\n",
       " ['train_3504'],\n",
       " ['train_3509'],\n",
       " ['train_3518'],\n",
       " ['train_3525'],\n",
       " ['train_3534'],\n",
       " ['train_3535'],\n",
       " ['train_3537'],\n",
       " ['train_3540'],\n",
       " ['train_3553'],\n",
       " ['train_3555'],\n",
       " ['train_3560'],\n",
       " ['train_3568'],\n",
       " ['train_3570'],\n",
       " ['train_3573'],\n",
       " ['train_3579'],\n",
       " ['train_3582'],\n",
       " ['train_3586'],\n",
       " ['train_3587'],\n",
       " ['train_3588'],\n",
       " ['train_3600'],\n",
       " ['train_3615'],\n",
       " ['train_3624'],\n",
       " ['train_3635'],\n",
       " ['train_3644'],\n",
       " ['train_3663'],\n",
       " ['train_3664'],\n",
       " ['train_3685'],\n",
       " ['train_3688'],\n",
       " ['train_3694'],\n",
       " ['train_3699'],\n",
       " ['train_3702'],\n",
       " ['train_3704'],\n",
       " ['train_3705'],\n",
       " ['train_3706'],\n",
       " ['train_3709'],\n",
       " ['train_3713'],\n",
       " ['train_3717'],\n",
       " ['train_3723'],\n",
       " ['train_3727'],\n",
       " ['train_3733'],\n",
       " ['train_3740'],\n",
       " ['train_3744'],\n",
       " ['train_3752'],\n",
       " ['train_3758'],\n",
       " ['train_3760'],\n",
       " ['train_3761'],\n",
       " ['train_3766'],\n",
       " ['train_3768'],\n",
       " ['train_3769'],\n",
       " ['train_3773'],\n",
       " ['train_3785'],\n",
       " ['train_3795'],\n",
       " ['train_3799'],\n",
       " ['train_3803'],\n",
       " ['train_3810'],\n",
       " ['train_3816'],\n",
       " ['train_3822'],\n",
       " ['train_3823'],\n",
       " ['train_3828'],\n",
       " ['train_3835'],\n",
       " ['train_3836'],\n",
       " ['train_3837'],\n",
       " ['train_3844'],\n",
       " ['train_3847'],\n",
       " ['train_3849'],\n",
       " ['train_3851'],\n",
       " ['train_3854'],\n",
       " ['train_3856'],\n",
       " ['train_3857'],\n",
       " ['train_3862'],\n",
       " ['train_3865'],\n",
       " ['train_3868'],\n",
       " ['train_3869'],\n",
       " ['train_3872'],\n",
       " ['train_3876'],\n",
       " ['train_3884'],\n",
       " ['train_3894'],\n",
       " ['train_3897'],\n",
       " ['train_3898'],\n",
       " ['train_3906'],\n",
       " ['train_3910'],\n",
       " ['train_3912'],\n",
       " ['train_3918'],\n",
       " ['train_3921'],\n",
       " ['train_3923'],\n",
       " ['train_3929'],\n",
       " ['train_3932'],\n",
       " ['train_3936'],\n",
       " ['train_3941'],\n",
       " ['train_3945'],\n",
       " ['train_3946'],\n",
       " ['train_3949'],\n",
       " ['train_3952'],\n",
       " ['train_3953'],\n",
       " ['train_3955'],\n",
       " ['train_3962'],\n",
       " ['train_3964'],\n",
       " ['train_3978'],\n",
       " ['train_3994'],\n",
       " ['train_3997'],\n",
       " ['train_4001'],\n",
       " ['train_4003'],\n",
       " ['train_4005'],\n",
       " ['train_4006'],\n",
       " ['train_4010'],\n",
       " ['train_4012'],\n",
       " ['train_4013'],\n",
       " ['train_4014'],\n",
       " ['train_4015'],\n",
       " ['train_4017'],\n",
       " ['train_4020'],\n",
       " ['train_4028'],\n",
       " ['train_4034'],\n",
       " ['train_4037'],\n",
       " ['train_4040'],\n",
       " ['train_4045'],\n",
       " ['train_4052'],\n",
       " ['train_4068'],\n",
       " ['train_4075'],\n",
       " ['train_4079'],\n",
       " ['train_4085'],\n",
       " ['train_4087'],\n",
       " ['train_4092'],\n",
       " ['train_4096'],\n",
       " ['train_4103'],\n",
       " ['train_4106'],\n",
       " ['train_4117'],\n",
       " ['train_4118'],\n",
       " ['train_4123'],\n",
       " ['train_4124'],\n",
       " ['train_4127'],\n",
       " ['train_4133'],\n",
       " ['train_4135'],\n",
       " ['train_4136'],\n",
       " ['train_4146'],\n",
       " ['train_4147'],\n",
       " ['train_4174'],\n",
       " ['train_4175'],\n",
       " ['train_4178'],\n",
       " ['train_4179'],\n",
       " ['train_4181'],\n",
       " ['train_4186'],\n",
       " ['train_4188'],\n",
       " ['train_4197'],\n",
       " ['train_4204'],\n",
       " ['train_4207'],\n",
       " ['train_4228'],\n",
       " ['train_4231'],\n",
       " ['train_4233'],\n",
       " ['train_4234'],\n",
       " ['train_4246'],\n",
       " ['train_4253'],\n",
       " ['train_4258'],\n",
       " ['train_4259'],\n",
       " ['train_4262'],\n",
       " ['train_4268'],\n",
       " ['train_4277'],\n",
       " ['train_4279'],\n",
       " ['train_4286'],\n",
       " ['train_4287'],\n",
       " ['train_4289'],\n",
       " ['train_4291'],\n",
       " ['train_4302'],\n",
       " ['train_4303'],\n",
       " ['train_4310'],\n",
       " ['train_4315'],\n",
       " ['train_4317'],\n",
       " ['train_4333'],\n",
       " ['train_4337'],\n",
       " ['train_4338'],\n",
       " ['train_4345'],\n",
       " ['train_4352'],\n",
       " ['train_4356'],\n",
       " ['train_4357'],\n",
       " ['train_4359'],\n",
       " ['train_4363'],\n",
       " ['train_4364'],\n",
       " ['train_4370'],\n",
       " ['train_4379'],\n",
       " ['train_4383'],\n",
       " ['train_4392'],\n",
       " ['train_4399'],\n",
       " ['train_4400'],\n",
       " ['train_4410'],\n",
       " ['train_4425'],\n",
       " ['train_4426'],\n",
       " ['train_4436'],\n",
       " ['train_4437'],\n",
       " ['train_4440'],\n",
       " ['train_4441'],\n",
       " ['train_4443'],\n",
       " ['train_4450'],\n",
       " ['train_4455'],\n",
       " ['train_4476'],\n",
       " ['train_4482'],\n",
       " ['train_4484'],\n",
       " ['train_4494'],\n",
       " ['train_4496'],\n",
       " ['train_4502'],\n",
       " ['train_4505'],\n",
       " ['train_4509'],\n",
       " ['train_4514'],\n",
       " ['train_4516'],\n",
       " ['train_4529'],\n",
       " ['train_4534'],\n",
       " ['train_4539'],\n",
       " ['train_4542'],\n",
       " ['train_4543'],\n",
       " ['train_4547'],\n",
       " ['train_4549'],\n",
       " ['train_4553'],\n",
       " ['train_4555'],\n",
       " ['train_4571'],\n",
       " ['train_4575'],\n",
       " ['train_4579'],\n",
       " ['train_4583'],\n",
       " ['train_4584'],\n",
       " ['train_4589'],\n",
       " ['train_4590'],\n",
       " ['train_4596'],\n",
       " ['train_4602'],\n",
       " ['train_4603'],\n",
       " ['train_4607'],\n",
       " ['train_4613'],\n",
       " ['train_4615'],\n",
       " ['train_4616'],\n",
       " ['train_4617'],\n",
       " ['train_4623'],\n",
       " ['train_4627'],\n",
       " ['train_4628'],\n",
       " ['train_4630'],\n",
       " ['train_4632'],\n",
       " ['train_4633'],\n",
       " ['train_4642'],\n",
       " ['train_4647'],\n",
       " ['train_4656'],\n",
       " ['train_4665'],\n",
       " ['train_4666'],\n",
       " ['train_4681'],\n",
       " ['train_4683'],\n",
       " ['train_4684'],\n",
       " ['train_4709'],\n",
       " ['train_4724'],\n",
       " ['train_4731'],\n",
       " ['train_4741'],\n",
       " ['train_4746'],\n",
       " ['train_4748'],\n",
       " ['train_4750'],\n",
       " ['train_4755'],\n",
       " ['train_4757'],\n",
       " ['train_4762'],\n",
       " ['train_4768'],\n",
       " ['train_4774'],\n",
       " ['train_4779'],\n",
       " ['train_4780'],\n",
       " ['train_4782'],\n",
       " ['train_4794'],\n",
       " ['train_4798'],\n",
       " ['train_4813'],\n",
       " ['train_4814'],\n",
       " ['train_4830'],\n",
       " ['train_4832'],\n",
       " ['train_4833'],\n",
       " ['train_4843'],\n",
       " ['train_4847'],\n",
       " ['train_4851'],\n",
       " ['train_4857'],\n",
       " ['train_4858'],\n",
       " ['train_4866'],\n",
       " ['train_4876'],\n",
       " ['train_4877'],\n",
       " ['train_4880'],\n",
       " ['train_4886'],\n",
       " ['train_4891'],\n",
       " ['train_4894'],\n",
       " ['train_4896'],\n",
       " ...]"
      ]
     },
     "execution_count": 81,
     "metadata": {},
     "output_type": "execute_result"
    }
   ],
   "source": [
    "[re.findall(r'train_\\d+', s) for s in data.valid_dl.x]"
   ]
  },
  {
   "cell_type": "code",
   "execution_count": 78,
   "metadata": {},
   "outputs": [
    {
     "data": {
      "text/plain": [
       "array(['/home/ubuntu/.fastai/data/planet/train-jpg/train_1.jpg',\n",
       "       '/home/ubuntu/.fastai/data/planet/train-jpg/train_7.jpg',\n",
       "       '/home/ubuntu/.fastai/data/planet/train-jpg/train_10.jpg',\n",
       "       '/home/ubuntu/.fastai/data/planet/train-jpg/train_13.jpg', ...,\n",
       "       '/home/ubuntu/.fastai/data/planet/train-jpg/train_40440.jpg',\n",
       "       '/home/ubuntu/.fastai/data/planet/train-jpg/train_40442.jpg',\n",
       "       '/home/ubuntu/.fastai/data/planet/train-jpg/train_40455.jpg',\n",
       "       '/home/ubuntu/.fastai/data/planet/train-jpg/train_40468.jpg'], dtype=object)"
      ]
     },
     "execution_count": 78,
     "metadata": {},
     "output_type": "execute_result"
    }
   ],
   "source": [
    "data.valid_dl.x"
   ]
  },
  {
   "cell_type": "markdown",
   "metadata": {},
   "source": [
    "### Test"
   ]
  },
  {
   "cell_type": "code",
   "execution_count": 27,
   "metadata": {},
   "outputs": [
    {
     "data": {
      "text/plain": [
       "[PosixPath('/home/ubuntu/.fastai/data/planet/test_v2_file_mapping.csv'),\n",
       " PosixPath('/home/ubuntu/.fastai/data/planet/sample_submission_v2.csv'),\n",
       " PosixPath('/home/ubuntu/.fastai/data/planet/train_v2.csv.zip'),\n",
       " PosixPath('/home/ubuntu/.fastai/data/planet/train_v2.csv'),\n",
       " PosixPath('/home/ubuntu/.fastai/data/planet/__MACOSX'),\n",
       " PosixPath('/home/ubuntu/.fastai/data/planet/models'),\n",
       " PosixPath('/home/ubuntu/.fastai/data/planet/train-jpg'),\n",
       " PosixPath('/home/ubuntu/.fastai/data/planet/test_v2_file_mapping.csv.zip'),\n",
       " PosixPath('/home/ubuntu/.fastai/data/planet/sample_submission_v2.csv.zip'),\n",
       " PosixPath('/home/ubuntu/.fastai/data/planet/test-jpg')]"
      ]
     },
     "execution_count": 27,
     "metadata": {},
     "output_type": "execute_result"
    }
   ],
   "source": [
    "path.ls()"
   ]
  },
  {
   "cell_type": "code",
   "execution_count": 30,
   "metadata": {},
   "outputs": [],
   "source": [
    "subm_df = pd.read_csv(path/'sample_submission_v2.csv')"
   ]
  },
  {
   "cell_type": "code",
   "execution_count": 31,
   "metadata": {},
   "outputs": [
    {
     "data": {
      "text/html": [
       "<div>\n",
       "<style scoped>\n",
       "    .dataframe tbody tr th:only-of-type {\n",
       "        vertical-align: middle;\n",
       "    }\n",
       "\n",
       "    .dataframe tbody tr th {\n",
       "        vertical-align: top;\n",
       "    }\n",
       "\n",
       "    .dataframe thead th {\n",
       "        text-align: right;\n",
       "    }\n",
       "</style>\n",
       "<table border=\"1\" class=\"dataframe\">\n",
       "  <thead>\n",
       "    <tr style=\"text-align: right;\">\n",
       "      <th></th>\n",
       "      <th>image_name</th>\n",
       "      <th>tags</th>\n",
       "    </tr>\n",
       "  </thead>\n",
       "  <tbody>\n",
       "    <tr>\n",
       "      <th>0</th>\n",
       "      <td>test_0</td>\n",
       "      <td>primary clear agriculture road water</td>\n",
       "    </tr>\n",
       "    <tr>\n",
       "      <th>1</th>\n",
       "      <td>test_1</td>\n",
       "      <td>primary clear agriculture road water</td>\n",
       "    </tr>\n",
       "    <tr>\n",
       "      <th>2</th>\n",
       "      <td>test_2</td>\n",
       "      <td>primary clear agriculture road water</td>\n",
       "    </tr>\n",
       "    <tr>\n",
       "      <th>3</th>\n",
       "      <td>test_3</td>\n",
       "      <td>primary clear agriculture road water</td>\n",
       "    </tr>\n",
       "    <tr>\n",
       "      <th>4</th>\n",
       "      <td>test_4</td>\n",
       "      <td>primary clear agriculture road water</td>\n",
       "    </tr>\n",
       "  </tbody>\n",
       "</table>\n",
       "</div>"
      ],
      "text/plain": [
       "  image_name                                  tags\n",
       "0     test_0  primary clear agriculture road water\n",
       "1     test_1  primary clear agriculture road water\n",
       "2     test_2  primary clear agriculture road water\n",
       "3     test_3  primary clear agriculture road water\n",
       "4     test_4  primary clear agriculture road water"
      ]
     },
     "execution_count": 31,
     "metadata": {},
     "output_type": "execute_result"
    }
   ],
   "source": [
    "subm_df.head()"
   ]
  },
  {
   "cell_type": "code",
   "execution_count": null,
   "metadata": {},
   "outputs": [],
   "source": []
  }
 ],
 "metadata": {
  "kernelspec": {
   "display_name": "Python 3",
   "language": "python",
   "name": "python3"
  },
  "language_info": {
   "codemirror_mode": {
    "name": "ipython",
    "version": 3
   },
   "file_extension": ".py",
   "mimetype": "text/x-python",
   "name": "python",
   "nbconvert_exporter": "python",
   "pygments_lexer": "ipython3",
   "version": "3.6.5"
  }
 },
 "nbformat": 4,
 "nbformat_minor": 2
}
